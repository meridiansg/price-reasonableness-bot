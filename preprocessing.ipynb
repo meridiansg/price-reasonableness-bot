{
 "cells": [
  {
   "cell_type": "code",
   "execution_count": 2,
   "metadata": {},
   "outputs": [],
   "source": [
    "import os\n",
    "import json\n",
    "for file in os.listdir('./resources/Redacted files'):\n",
    "\tcontent = \"\"\n",
    "\tfilename = None\n",
    "\twith open(f'./resources/Redacted files/{file}', 'r') as f:\n",
    "\t\tdata = json.load(f)\n",
    "\n",
    "\t\tfor data_point in data:\n",
    "\t\t\tcontent += data_point['text']\n",
    "\n",
    "\t\t\tif filename is None:\n",
    "\t\t\t\tfilename = data_point['metadata']['file_name'].split('.')[0]\n",
    "\t\t\n",
    "\tcontent = content.replace('\\n\\n', '\\n')\n",
    "\twith open(f'./resources/cleaned/{filename}.md', 'w') as f:\n",
    "\t\tf.write(content)"
   ]
  },
  {
   "cell_type": "markdown",
   "metadata": {},
   "source": [
    "----\n",
    "## *OLD*"
   ]
  },
  {
   "cell_type": "markdown",
   "metadata": {},
   "source": [
    "### Building Knowledge Base"
   ]
  },
  {
   "cell_type": "code",
   "execution_count": 14,
   "metadata": {},
   "outputs": [],
   "source": [
    "tokenizer = tiktoken.get_encoding('cl100k_base')\n",
    "\n",
    "# create the length function\n",
    "def tiktoken_len(text):\n",
    "    tokens = tokenizer.encode(\n",
    "        text,\n",
    "        disallowed_special=()\n",
    "    )\n",
    "    return len(tokens)"
   ]
  },
  {
   "cell_type": "code",
   "execution_count": 32,
   "metadata": {},
   "outputs": [],
   "source": [
    "from langchain.text_splitter import RecursiveCharacterTextSplitter\n",
    "\n",
    "text_splitter = RecursiveCharacterTextSplitter(\n",
    "    chunk_size=400,\n",
    "    chunk_overlap=150,\n",
    "    length_function=tiktoken_len,\n",
    "    separators=[\"\\n\\n\", \"\\n\", \" \", \"\"]\n",
    ")"
   ]
  },
  {
   "cell_type": "markdown",
   "metadata": {},
   "source": [
    "### Parsing Docs"
   ]
  },
  {
   "cell_type": "code",
   "execution_count": 4,
   "metadata": {},
   "outputs": [],
   "source": [
    "import json\n",
    "\n",
    "with open(\"./resources/Redacted files/AUTONOMOUS ROBOT Evaluation Report (No Award) 170122_redacted.json\", \"r\") as f:\n",
    "\tdata = (json.load(f))\n",
    "\n",
    "texts = [doc['text'] for doc in data]"
   ]
  },
  {
   "cell_type": "markdown",
   "metadata": {},
   "source": [
    "### Create embeddings"
   ]
  },
  {
   "cell_type": "code",
   "execution_count": 11,
   "metadata": {},
   "outputs": [
    {
     "name": "stderr",
     "output_type": "stream",
     "text": [
      "c:\\Users\\Name\\anaconda3\\envs\\gpt4v\\lib\\site-packages\\tqdm\\auto.py:21: TqdmWarning: IProgress not found. Please update jupyter and ipywidgets. See https://ipywidgets.readthedocs.io/en/stable/user_install.html\n",
      "  from .autonotebook import tqdm as notebook_tqdm\n",
      "tokenizer_config.json: 100%|██████████| 366/366 [00:00<?, ?B/s] \n",
      "c:\\Users\\Name\\anaconda3\\envs\\gpt4v\\lib\\site-packages\\huggingface_hub\\file_download.py:147: UserWarning: `huggingface_hub` cache-system uses symlinks by default to efficiently store duplicated files but your machine does not support them in C:\\Users\\Name\\.cache\\huggingface\\hub. Caching files will still work but in a degraded version that might require more space on your disk. This warning can be disabled by setting the `HF_HUB_DISABLE_SYMLINKS_WARNING` environment variable. For more details, see https://huggingface.co/docs/huggingface_hub/how-to-cache#limitations.\n",
      "To support symlinks on Windows, you either need to activate Developer Mode or to run Python as an administrator. In order to see activate developer mode, see this article: https://docs.microsoft.com/en-us/windows/apps/get-started/enable-your-device-for-development\n",
      "  warnings.warn(message)\n",
      "vocab.txt: 100%|██████████| 232k/232k [00:00<00:00, 6.57MB/s]\n",
      "tokenizer.json: 100%|██████████| 711k/711k [00:00<00:00, 7.28MB/s]\n",
      "special_tokens_map.json: 100%|██████████| 125/125 [00:00<?, ?B/s] \n",
      "config.json: 100%|██████████| 779/779 [00:00<?, ?B/s] \n",
      "pytorch_model.bin: 100%|██████████| 1.34G/1.34G [03:46<00:00, 5.92MB/s]\n"
     ]
    }
   ],
   "source": [
    "from FlagEmbedding import FlagModel\n",
    "model = FlagModel('BAAI/bge-large-en-v1.5', use_fp16=True, normalize_embeddings=True)"
   ]
  },
  {
   "cell_type": "code",
   "execution_count": 39,
   "metadata": {},
   "outputs": [],
   "source": [
    "df = []\n",
    "for text in texts:\n",
    "\tchunks = text_splitter.split_text(text)\n",
    "\tfor chunk in chunks:\n",
    "\t\tdf.append([chunk, model.encode(chunk)])\n",
    "\n",
    "df = pd.DataFrame(df, columns = ['for_embedding', 'embedding'])"
   ]
  }
 ],
 "metadata": {
  "kernelspec": {
   "display_name": "gpt4v",
   "language": "python",
   "name": "python3"
  },
  "language_info": {
   "codemirror_mode": {
    "name": "ipython",
    "version": 3
   },
   "file_extension": ".py",
   "mimetype": "text/x-python",
   "name": "python",
   "nbconvert_exporter": "python",
   "pygments_lexer": "ipython3",
   "version": "3.10.13"
  }
 },
 "nbformat": 4,
 "nbformat_minor": 2
}
