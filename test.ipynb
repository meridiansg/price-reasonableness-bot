{
 "cells": [
  {
   "cell_type": "code",
   "execution_count": null,
   "metadata": {},
   "outputs": [],
   "source": [
    "q"
   ]
  },
  {
   "cell_type": "code",
   "execution_count": null,
   "metadata": {},
   "outputs": [],
   "source": [
    "# Data Ingestion\n",
    "\n",
    "# Data Ingestion\n",
    "\n",
    "Basically, this is where all the redacted documents come in to be cleaned by GPT to check for eligibility according to these criteria:\n",
    "\n",
    "1. Specific Prices\n",
    "2. Breakdown of prices\n",
    "3. Explanation of prices (cost analysis)\n",
    "4. How the prices are calculated\n",
    "5. Whether or not the tender was approved\n",
    "6. Why the tender was approved\n",
    "7. Did the approval/disapproval of the tender contain any remarks to the price? Or was it based solely on the non-financial aspects of the tender e.g. (not meeting tender requirements, etc etc)\n",
    "\n",
    "I will provide you with the files. Please wait for me to give them to you before beginning.\n",
    "\n"
   ]
  },
  {
   "cell_type": "code",
   "execution_count": null,
   "metadata": {},
   "outputs": [],
   "source": []
  }
 ],
 "metadata": {
  "language_info": {
   "name": "python"
  }
 },
 "nbformat": 4,
 "nbformat_minor": 2
}
